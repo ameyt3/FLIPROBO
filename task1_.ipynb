{
 "cells": [
  {
   "cell_type": "code",
   "execution_count": 1,
   "metadata": {},
   "outputs": [],
   "source": [
    "#import required libraries\n",
    "from bs4 import BeautifulSoup\n",
    "import requests\n",
    "import selenium\n",
    "from selenium import webdriver\n",
    "import time\n",
    "import pandas as pd\n",
    "from selenium.common.exceptions import StaleElementReferenceException, NoSuchElementException,ElementNotInteractableException"
   ]
  },
  {
   "cell_type": "code",
   "execution_count": 2,
   "metadata": {},
   "outputs": [],
   "source": [
    "#open instance of browser\n",
    "driver=webdriver.Chrome(r'chromedriver.exe')\n",
    "\n",
    "#open the required link\n",
    "url='https://www.deccanherald.com/archives'\n",
    "driver.get(url)\n",
    "\n",
    "#create empty list to store teh scraped data temporarily\n",
    "links=[]\n",
    "headlines=[]\n",
    "authors=[]\n",
    "date=[]\n",
    "description=[]\n",
    "\n",
    "#get links of each news in archive for each day of february\n",
    "#get headlines of each news from this page itself\n",
    "for i in range(2,29):\n",
    "    try:\n",
    "        driver.find_element_by_xpath('//div[@class=\"datepicker-block parent-relative\"]/form/div/div/a').click()\n",
    "        if i ==2:\n",
    "            driver.find_element_by_xpath('//div[@class=\"flatpickr-calendar animate open arrowBottom\"]/div[1]/span').click()\n",
    "        else:\n",
    "            pass\n",
    "        driver.find_element_by_xpath('/html/body/div[2]/div[2]/div/div[2]/div/span[{}]'.format(i)).click()\n",
    "        driver.find_element_by_xpath('/html/body/main/div[3]/div/div/div/div/div/div/div/div/div/section/div/div/div[2]/div[1]/div[2]/form/a').click()\n",
    "        time.sleep(2)\n",
    "        tags=driver.find_elements_by_xpath('//li[@class=\"group sanspro-reg archives-note\"]/a')\n",
    "        for j in tags:\n",
    "            links.append(j.get_attribute('href'))\n",
    "            headlines.append(j.text)\n",
    "        i+=1\n",
    "    except:\n",
    "        pass"
   ]
  },
  {
   "cell_type": "code",
   "execution_count": null,
   "metadata": {},
   "outputs": [],
   "source": [
    "#get the actual data that is required\n",
    "for i in links:\n",
    "    driver.get(i)\n",
    "    try:\n",
    "        authors.append(driver.find_element_by_xpath('//div[@class=\"group article-author relative-main\"]/div[2]/a').text)\n",
    "    except:\n",
    "        authors.append('-')\n",
    "    try:\n",
    "        date.append(driver.find_element_by_xpath('//div[@class=\"group article-author relative-main\"]/div[2]/ul/li[1]').text)\n",
    "    except:\n",
    "        date.append('-')\n",
    "    try:\n",
    "        description.append(driver.find_element_by_xpath('//div[@class=\"content\"]/div[2]/div/div').text)\n",
    "    except:\n",
    "        description.append('-')"
   ]
  },
  {
   "cell_type": "code",
   "execution_count": null,
   "metadata": {},
   "outputs": [],
   "source": [
    "#create data frame of teh required data nd save it to csv\n",
    "news_df=pd.DataFrame({})\n",
    "news_df['Date']=date\n",
    "news_df['author']=authors\n",
    "news_df['headlines']=headlines\n",
    "news_df['description']=description\n",
    "news_df.to_csv('news_archives')"
   ]
  },
  {
   "cell_type": "code",
   "execution_count": null,
   "metadata": {},
   "outputs": [],
   "source": []
  },
  {
   "cell_type": "code",
   "execution_count": null,
   "metadata": {},
   "outputs": [],
   "source": []
  }
 ],
 "metadata": {
  "kernelspec": {
   "display_name": "Python 3",
   "language": "python",
   "name": "python3"
  },
  "language_info": {
   "codemirror_mode": {
    "name": "ipython",
    "version": 3
   },
   "file_extension": ".py",
   "mimetype": "text/x-python",
   "name": "python",
   "nbconvert_exporter": "python",
   "pygments_lexer": "ipython3",
   "version": "3.8.3"
  }
 },
 "nbformat": 4,
 "nbformat_minor": 4
}
