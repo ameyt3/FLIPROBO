{
 "cells": [
  {
   "cell_type": "code",
   "execution_count": 1,
   "metadata": {},
   "outputs": [],
   "source": [
    "import pandas as pd\n",
    "from selenium import webdriver\n",
    "import time\n",
    "from selenium.webdriver.common.keys import Keys"
   ]
  },
  {
   "cell_type": "code",
   "execution_count": 12,
   "metadata": {},
   "outputs": [
    {
     "name": "stdout",
     "output_type": "stream",
     "text": [
      "enter product to be searchedShoes\n"
     ]
    }
   ],
   "source": [
    "driver=webdriver.Chrome(r'Chromedriver.exe')\n",
    "driver.get('https://www.amazon.in/')\n",
    "product=input('enter product to be searched')\n",
    "driver.find_element_by_xpath('//input[@id=\"twotabsearchtextbox\"]').send_keys(str(product))\n",
    "driver.find_element_by_xpath('//input[@id=\"nav-search-submit-button\"]').click()"
   ]
  },
  {
   "cell_type": "code",
   "execution_count": 13,
   "metadata": {},
   "outputs": [],
   "source": [
    "time.sleep(5)\n",
    "brand=[]\n",
    "name=[]\n",
    "\n",
    "j=0\n",
    "while j<3:\n",
    "    time.sleep(5)\n",
    "    brands = driver.find_elements_by_xpath('//h5[@class=\"s-line-clamp-1\"]')\n",
    "    for i in brands:\n",
    "        brand.append(i.text)\n",
    "    driver.find_element_by_xpath('//li[@class=\"a-last\"]').click()\n",
    "    try:\n",
    "        names=driver.find_elements_by_xpath('//span[@class=\"a-size-base-plus a-color-base a-text-normal\"]')\n",
    "        for i in names:\n",
    "            name.append()\n",
    "    except:\n",
    "        name.append('-')\n",
    "    j+=1    "
   ]
  },
  {
   "cell_type": "code",
   "execution_count": 14,
   "metadata": {},
   "outputs": [
    {
     "data": {
      "text/plain": [
       "['LEVANSE',\n",
       " 'Bourge',\n",
       " 'Big Fox',\n",
       " 'Bourge',\n",
       " 'T-Rock',\n",
       " 'Ethics',\n",
       " 'ASIAN',\n",
       " 'Bourge',\n",
       " 'Ethics',\n",
       " 'bentli',\n",
       " 'ALICON',\n",
       " 'Bourge',\n",
       " 'APASH MERCHANDISES',\n",
       " 'Bourge',\n",
       " 'Ethics',\n",
       " 'T-Rock',\n",
       " 'Campus',\n",
       " 'WORLD WEAR FOOTWEAR',\n",
       " 'Ethics',\n",
       " 'Shoefly',\n",
       " 'Big Fox',\n",
       " 'HEALTH FIT',\n",
       " 'ASIAN',\n",
       " 'Sparx',\n",
       " 'Lotto',\n",
       " 'Ethics',\n",
       " 'Sparx',\n",
       " 'Sparx',\n",
       " 'SEGA',\n",
       " 'NEOSAFE',\n",
       " 'Reebok',\n",
       " 'Shoefly',\n",
       " 'Asian shoes',\n",
       " 'ASIAN',\n",
       " 'Campus',\n",
       " 'Bourge',\n",
       " 'Kraasa',\n",
       " 'CLYMB',\n",
       " 'ZOVIM',\n",
       " 'Sparx',\n",
       " 'Sparx',\n",
       " 'Shoefly',\n",
       " 'Mactree',\n",
       " 'Arivo',\n",
       " 'Bourge',\n",
       " 'Ethics',\n",
       " 'Bourge',\n",
       " 'ASIAN',\n",
       " 'Bourge',\n",
       " 'Lotto',\n",
       " 'ASIAN',\n",
       " 'BUCADIA',\n",
       " 'Sparx',\n",
       " 'ASIAN',\n",
       " 'Klepe',\n",
       " 'Big Fox',\n",
       " 'LEVANSE',\n",
       " 'Big Fox',\n",
       " 'Bourge',\n",
       " 'Power',\n",
       " 'ASIAN',\n",
       " 'Campus',\n",
       " 'Bourge',\n",
       " 'ASIAN',\n",
       " 'Adidas',\n",
       " 'ASIAN',\n",
       " 'Sparx',\n",
       " 'Sparx',\n",
       " 'Lancer',\n",
       " 'ASIAN',\n",
       " 'ASIAN',\n",
       " 'Power',\n",
       " 'Sparx',\n",
       " 'Bourge',\n",
       " 'Big Fox',\n",
       " 'Big Fox',\n",
       " 'Big Fox',\n",
       " 'Adidas',\n",
       " 'ASICS',\n",
       " 'Sklodge',\n",
       " 'Birde',\n",
       " 'Red Chief',\n",
       " 'Ethics',\n",
       " 'Nivia',\n",
       " 'ASIAN',\n",
       " 'Campus',\n",
       " 'ASIAN',\n",
       " 'WORLD WEAR FOOTWEAR',\n",
       " 'Sparx',\n",
       " 'Adidas',\n",
       " 'ASIAN',\n",
       " 'ASICS',\n",
       " 'Mactree',\n",
       " 'Sparx',\n",
       " 'Sparx',\n",
       " 'Sparx',\n",
       " 'Asian shoes',\n",
       " 'Sparx',\n",
       " 'Campus',\n",
       " 'Sparx',\n",
       " 'Bacca Bucci',\n",
       " 'Klepe',\n",
       " 'ROCKFIELD',\n",
       " 'Sparx',\n",
       " 'Sparx',\n",
       " 'WORLD WEAR FOOTWEAR',\n",
       " 'Adidas',\n",
       " 'Maddy',\n",
       " 'Bourge',\n",
       " 'Klepe',\n",
       " 'LEVANSE',\n",
       " 'Big Fox',\n",
       " 'Big Fox',\n",
       " 'Campus',\n",
       " 'Liberty',\n",
       " 'Sparx',\n",
       " 'Sparx',\n",
       " 'Big Fox',\n",
       " 'Asian shoes',\n",
       " 'Lotto',\n",
       " 'Sparx',\n",
       " 'Campus',\n",
       " 'Sparx',\n",
       " 'Sparx',\n",
       " 'Bacca Bucci',\n",
       " 'Klepe',\n",
       " 'ROCKFIELD',\n",
       " 'Sparx',\n",
       " 'Sparx',\n",
       " 'WORLD WEAR FOOTWEAR',\n",
       " 'Adidas',\n",
       " 'Maddy',\n",
       " 'Bourge',\n",
       " 'Lotto',\n",
       " 'ASIAN',\n",
       " 'FLITE',\n",
       " 'Sparx',\n",
       " 'Sparx',\n",
       " 'Lotto',\n",
       " 'Sparx',\n",
       " 'Bourge',\n",
       " 'Sparx',\n",
       " 'Adidas',\n",
       " 'Ortho & DiaCare',\n",
       " 'ASIAN',\n",
       " 'Bourge',\n",
       " 'Bourge',\n",
       " 'Lotto',\n",
       " 'Fusefit',\n",
       " 'Sparx',\n",
       " 'Bourge',\n",
       " 'ASIAN',\n",
       " 'Sparx',\n",
       " 'Sparx',\n",
       " 'Bersache',\n",
       " 'CLYMB',\n",
       " 'Puma',\n",
       " 'Bourge',\n",
       " 'Sparx',\n",
       " 'Bourge',\n",
       " 'ASICS']"
      ]
     },
     "execution_count": 14,
     "metadata": {},
     "output_type": "execute_result"
    }
   ],
   "source": [
    "title"
   ]
  },
  {
   "cell_type": "code",
   "execution_count": 19,
   "metadata": {},
   "outputs": [],
   "source": [
    "driver=webdriver.Chrome(r'Chromedriver.exe')\n",
    "img_fruit=[]\n",
    "img_cars=[]\n",
    "ML=[]\n",
    "for search in ['fruits','cars','Machine Learning']:\n",
    "    driver.get('https://images.google.com/')\n",
    "    driver.find_element_by_xpath('//input[@class=\"gLFyf gsfi\"]').send_keys(search)\n",
    "    driver.find_element_by_xpath('//div[@class=\"FAuhyb\"]').click()\n",
    "    time.sleep(5)\n",
    "    tags=driver.find_elements_by_xpath('//img[@class=\"rg_i Q4LuWd\"]')\n",
    "    if search=='fruits':\n",
    "        for i in tags:\n",
    "            img_fruit.append(i.get_attribute('src'))\n",
    "    elif search=='cars':\n",
    "        for i in tags:\n",
    "            img_cars.append(i.get_attribute('src'))\n",
    "    else:\n",
    "        for i in tags:\n",
    "            ML.append(i.get_attribute('src'))"
   ]
  },
  {
   "cell_type": "code",
   "execution_count": 20,
   "metadata": {},
   "outputs": [
    {
     "data": {
      "text/plain": [
       "49"
      ]
     },
     "execution_count": 20,
     "metadata": {},
     "output_type": "execute_result"
    }
   ],
   "source": [
    "len(img_fruit)"
   ]
  },
  {
   "cell_type": "code",
   "execution_count": 22,
   "metadata": {},
   "outputs": [
    {
     "data": {
      "text/plain": [
       "49"
      ]
     },
     "execution_count": 22,
     "metadata": {},
     "output_type": "execute_result"
    }
   ],
   "source": [
    "len(ML)"
   ]
  },
  {
   "cell_type": "code",
   "execution_count": null,
   "metadata": {},
   "outputs": [],
   "source": [
    "img_fruit[1]"
   ]
  },
  {
   "cell_type": "code",
   "execution_count": 27,
   "metadata": {},
   "outputs": [],
   "source": [
    "import urllib"
   ]
  },
  {
   "cell_type": "code",
   "execution_count": 2,
   "metadata": {},
   "outputs": [],
   "source": [
    "driver=webdriver.Chrome(r'Chromedriver.exe')\n",
    "driver.get('https://www.google.com/maps/@18.8154265,76.7751435,7z')"
   ]
  },
  {
   "cell_type": "code",
   "execution_count": 5,
   "metadata": {},
   "outputs": [],
   "source": [
    "driver.maximize_window()"
   ]
  },
  {
   "cell_type": "code",
   "execution_count": 9,
   "metadata": {},
   "outputs": [
    {
     "name": "stdout",
     "output_type": "stream",
     "text": [
      "enter locationDapoli\n"
     ]
    }
   ],
   "source": [
    "loc=input('enter location')\n",
    "driver.find_element_by_xpath('//input[@id=\"searchboxinput\"]').send_keys(str(loc))\n",
    "driver.find_element_by_xpath('//button[@id=\"searchbox-searchbutton\"]').click()"
   ]
  },
  {
   "cell_type": "code",
   "execution_count": 11,
   "metadata": {},
   "outputs": [],
   "source": [
    "url_str=driver.current_url"
   ]
  },
  {
   "cell_type": "code",
   "execution_count": 12,
   "metadata": {},
   "outputs": [
    {
     "data": {
      "text/plain": [
       "'https://www.google.com/maps/place/Dapoli,+Maharashtra/@17.7667503,73.17112,14z/data=!3m1!4b1!4m5!3m4!1s0x3be9c3de665f4d7b:0x411a32d91e51e834!8m2!3d17.767697!4d73.1910115'"
      ]
     },
     "execution_count": 12,
     "metadata": {},
     "output_type": "execute_result"
    }
   ],
   "source": [
    "url_str"
   ]
  },
  {
   "cell_type": "code",
   "execution_count": 14,
   "metadata": {},
   "outputs": [
    {
     "data": {
      "text/plain": [
       "54"
      ]
     },
     "execution_count": 14,
     "metadata": {},
     "output_type": "execute_result"
    }
   ],
   "source": [
    "url_str.index('@')"
   ]
  },
  {
   "cell_type": "code",
   "execution_count": 22,
   "metadata": {},
   "outputs": [
    {
     "name": "stdout",
     "output_type": "stream",
     "text": [
      "17.7667503,73.17112\n"
     ]
    }
   ],
   "source": [
    "if '@' in url_str:\n",
    "    index_a=url_str.index('@')\n",
    "    print(url_str[index_a+1:index_a+20])"
   ]
  },
  {
   "cell_type": "code",
   "execution_count": 28,
   "metadata": {},
   "outputs": [],
   "source": [
    "def loc_fun():\n",
    "    \n",
    "    driver=webdriver.Chrome(r'Chromedriver.exe')\n",
    "    driver.get('https://www.google.com/maps')\n",
    "    driver.maximize_window()\n",
    "    loc=input('enter location')\n",
    "    driver.find_element_by_xpath('//input[@id=\"searchboxinput\"]').send_keys(str(loc))\n",
    "    driver.find_element_by_xpath('//button[@id=\"searchbox-searchbutton\"]').click()\n",
    "    time.sleep(5)\n",
    "    url_str=driver.current_url\n",
    "    if '@' in url_str:\n",
    "        index_a=url_str.index('@')\n",
    "        print(url_str[index_a+1:index_a+20])"
   ]
  },
  {
   "cell_type": "code",
   "execution_count": 40,
   "metadata": {},
   "outputs": [
    {
     "name": "stdout",
     "output_type": "stream",
     "text": [
      "enter product to be searchedShoes\n"
     ]
    }
   ],
   "source": [
    "\n",
    "driver=webdriver.Chrome(r'Chromedriver.exe')\n",
    "driver.get('https://www.amazon.in/')\n",
    "product=input('enter product to be searched')\n",
    "driver.find_element_by_xpath('//input[@id=\"twotabsearchtextbox\"]').send_keys(str(product))\n",
    "driver.find_element_by_xpath('//input[@id=\"nav-search-submit-button\"]').click()\n",
    "time.sleep(5)\n",
    "urls=[]\n",
    "j=0\n",
    "while j<3:\n",
    "    time.sleep(5)\n",
    "    tags = driver.find_elements_by_xpath('//a[@class=\"a-link-normal a-text-normal\"]')\n",
    "    for i in tags:\n",
    "        urls.append(i.get_attribute('href'))\n",
    "    driver.find_element_by_xpath('//li[@class=\"a-last\"]').click()\n",
    "    j+=1"
   ]
  },
  {
   "cell_type": "code",
   "execution_count": 31,
   "metadata": {},
   "outputs": [
    {
     "name": "stdout",
     "output_type": "stream",
     "text": [
      "Collecting html-table-parser-python3\n",
      "  Downloading html_table_parser_python3-0.1.5-py3-none-any.whl (3.5 kB)\n",
      "Installing collected packages: html-table-parser-python3\n",
      "Successfully installed html-table-parser-python3-0.1.5\n"
     ]
    }
   ],
   "source": [
    "!pip install html-table-parser-python3"
   ]
  },
  {
   "cell_type": "code",
   "execution_count": 32,
   "metadata": {},
   "outputs": [],
   "source": [
    "from html_table_parser import HTMLTableParser"
   ]
  },
  {
   "cell_type": "code",
   "execution_count": 35,
   "metadata": {},
   "outputs": [
    {
     "name": "stdout",
     "output_type": "stream",
     "text": [
      "enter product to be searchedShoes\n"
     ]
    }
   ],
   "source": [
    "amaz_search()"
   ]
  },
  {
   "cell_type": "code",
   "execution_count": 41,
   "metadata": {},
   "outputs": [
    {
     "data": {
      "text/plain": [
       "180"
      ]
     },
     "execution_count": 41,
     "metadata": {},
     "output_type": "execute_result"
    }
   ],
   "source": [
    "len(urls)"
   ]
  },
  {
   "cell_type": "code",
   "execution_count": null,
   "metadata": {},
   "outputs": [],
   "source": [
    "for url in urls:\n",
    "    driver.get(url)\n",
    "    "
   ]
  },
  {
   "cell_type": "code",
   "execution_count": 46,
   "metadata": {},
   "outputs": [
    {
     "name": "stdout",
     "output_type": "stream",
     "text": [
      "enter product to be searchedpixel 4a\n"
     ]
    }
   ],
   "source": [
    "driver=webdriver.Chrome(r'Chromedriver.exe')\n",
    "driver.get('https://www.flipkart.com/')\n",
    "product=input('enter product to be searched')\n",
    "driver.find_element_by_xpath('//button[@class=\"_2KpZ6l _2doB4z\"]').click()\n",
    "time.sleep(3)\n",
    "driver.find_element_by_xpath('//input[@title=\"Search for products, brands and more\"]').send_keys(str(product))\n",
    "driver.find_element_by_xpath('//button[@type=\"submit\"]').click()\n",
    "time.sleep(4)\n",
    "urls=[]\n",
    "names=[]\n",
    "cameras=[]\n",
    "links=driver.find_elements_by_xpath('//a[@class=\"_1fQZEK\"]')\n",
    "for i in links:\n",
    "    urls.append(i.get_attribute('href'))\n",
    "for i in urls:\n",
    "    driver.get(i)\n",
    "    names.append((driver.find_element_by_xpath('//span[@class=\"B_NuCI\"]')).text)\n",
    "    cameras.append(driver.find_element_by_xpath('//div[@class=\"_2418kt\"]/ul/li[3]').text)"
   ]
  },
  {
   "cell_type": "code",
   "execution_count": 47,
   "metadata": {},
   "outputs": [
    {
     "data": {
      "text/html": [
       "<div>\n",
       "<style scoped>\n",
       "    .dataframe tbody tr th:only-of-type {\n",
       "        vertical-align: middle;\n",
       "    }\n",
       "\n",
       "    .dataframe tbody tr th {\n",
       "        vertical-align: top;\n",
       "    }\n",
       "\n",
       "    .dataframe thead th {\n",
       "        text-align: right;\n",
       "    }\n",
       "</style>\n",
       "<table border=\"1\" class=\"dataframe\">\n",
       "  <thead>\n",
       "    <tr style=\"text-align: right;\">\n",
       "      <th></th>\n",
       "      <th>Names</th>\n",
       "      <th>Cameras</th>\n",
       "    </tr>\n",
       "  </thead>\n",
       "  <tbody>\n",
       "    <tr>\n",
       "      <th>0</th>\n",
       "      <td>Google Pixel 4a (Just Black, 128 GB)  (6 GB RAM)</td>\n",
       "      <td>12.2MP Rear Camera | 8MP Front Camera</td>\n",
       "    </tr>\n",
       "    <tr>\n",
       "      <th>1</th>\n",
       "      <td>Redmi 9 Prime (Mint Green, 64 GB)  (4 GB RAM)</td>\n",
       "      <td>13MP Rear Camera | 8MP Front Camera</td>\n",
       "    </tr>\n",
       "    <tr>\n",
       "      <th>2</th>\n",
       "      <td>Redmi 9 Prime (Sunrise Flare, 64 GB)  (4 GB RAM)</td>\n",
       "      <td>13MP Rear Camera | 8MP Front Camera</td>\n",
       "    </tr>\n",
       "    <tr>\n",
       "      <th>3</th>\n",
       "      <td>Redmi 9 Prime (Space Blue, 64 GB)  (4 GB RAM)</td>\n",
       "      <td>13MP Rear Camera | 8MP Front Camera</td>\n",
       "    </tr>\n",
       "    <tr>\n",
       "      <th>4</th>\n",
       "      <td>Redmi 9 Prime (Matte Black, 64 GB)  (4 GB RAM)</td>\n",
       "      <td>13MP Rear Camera | 8MP Front Camera</td>\n",
       "    </tr>\n",
       "  </tbody>\n",
       "</table>\n",
       "</div>"
      ],
      "text/plain": [
       "                                              Names  \\\n",
       "0  Google Pixel 4a (Just Black, 128 GB)  (6 GB RAM)   \n",
       "1     Redmi 9 Prime (Mint Green, 64 GB)  (4 GB RAM)   \n",
       "2  Redmi 9 Prime (Sunrise Flare, 64 GB)  (4 GB RAM)   \n",
       "3     Redmi 9 Prime (Space Blue, 64 GB)  (4 GB RAM)   \n",
       "4    Redmi 9 Prime (Matte Black, 64 GB)  (4 GB RAM)   \n",
       "\n",
       "                                 Cameras  \n",
       "0  12.2MP Rear Camera | 8MP Front Camera  \n",
       "1    13MP Rear Camera | 8MP Front Camera  \n",
       "2    13MP Rear Camera | 8MP Front Camera  \n",
       "3    13MP Rear Camera | 8MP Front Camera  \n",
       "4    13MP Rear Camera | 8MP Front Camera  "
      ]
     },
     "execution_count": 47,
     "metadata": {},
     "output_type": "execute_result"
    }
   ],
   "source": [
    "mobiles=pd.DataFrame({})\n",
    "mobiles['Names']=names\n",
    "mobiles['Cameras']=cameras\n",
    "mobiles.head()"
   ]
  },
  {
   "cell_type": "code",
   "execution_count": 68,
   "metadata": {},
   "outputs": [],
   "source": [
    "brand=[]\n",
    "phone_name=[]\n",
    "color=[]\n",
    "ROM=[]\n",
    "RAM=[]\n",
    "for i in names:\n",
    "    li=list(i.split(\" \"))\n",
    "    brand.append(li[0])\n",
    "    phone_name.append(str(li[:3]))\n",
    "    color.append(li[3:5])\n",
    "    ROM.append(li[5:7])\n",
    "    RAM.append(li[7:10])"
   ]
  },
  {
   "cell_type": "code",
   "execution_count": 69,
   "metadata": {},
   "outputs": [
    {
     "name": "stdout",
     "output_type": "stream",
     "text": [
      "['Samsung', 'M01', 'core', '(Black,', '32', 'GB)', '', '(2', 'GB', 'RAM)']\n"
     ]
    }
   ],
   "source": [
    "print(li)"
   ]
  },
  {
   "cell_type": "code",
   "execution_count": 72,
   "metadata": {},
   "outputs": [
    {
     "data": {
      "text/html": [
       "<div>\n",
       "<style scoped>\n",
       "    .dataframe tbody tr th:only-of-type {\n",
       "        vertical-align: middle;\n",
       "    }\n",
       "\n",
       "    .dataframe tbody tr th {\n",
       "        vertical-align: top;\n",
       "    }\n",
       "\n",
       "    .dataframe thead th {\n",
       "        text-align: right;\n",
       "    }\n",
       "</style>\n",
       "<table border=\"1\" class=\"dataframe\">\n",
       "  <thead>\n",
       "    <tr style=\"text-align: right;\">\n",
       "      <th></th>\n",
       "      <th>Brand</th>\n",
       "      <th>Name</th>\n",
       "      <th>Color</th>\n",
       "      <th>ROM</th>\n",
       "      <th>RAM</th>\n",
       "    </tr>\n",
       "  </thead>\n",
       "  <tbody>\n",
       "    <tr>\n",
       "      <th>0</th>\n",
       "      <td>Google</td>\n",
       "      <td>['Google', 'Pixel', '4a']</td>\n",
       "      <td>[(Just, Black,]</td>\n",
       "      <td>[128, GB)]</td>\n",
       "      <td>[, (6, GB]</td>\n",
       "    </tr>\n",
       "    <tr>\n",
       "      <th>1</th>\n",
       "      <td>Redmi</td>\n",
       "      <td>['Redmi', '9', 'Prime']</td>\n",
       "      <td>[(Mint, Green,]</td>\n",
       "      <td>[64, GB)]</td>\n",
       "      <td>[, (4, GB]</td>\n",
       "    </tr>\n",
       "    <tr>\n",
       "      <th>2</th>\n",
       "      <td>Redmi</td>\n",
       "      <td>['Redmi', '9', 'Prime']</td>\n",
       "      <td>[(Sunrise, Flare,]</td>\n",
       "      <td>[64, GB)]</td>\n",
       "      <td>[, (4, GB]</td>\n",
       "    </tr>\n",
       "    <tr>\n",
       "      <th>3</th>\n",
       "      <td>Redmi</td>\n",
       "      <td>['Redmi', '9', 'Prime']</td>\n",
       "      <td>[(Space, Blue,]</td>\n",
       "      <td>[64, GB)]</td>\n",
       "      <td>[, (4, GB]</td>\n",
       "    </tr>\n",
       "    <tr>\n",
       "      <th>4</th>\n",
       "      <td>Redmi</td>\n",
       "      <td>['Redmi', '9', 'Prime']</td>\n",
       "      <td>[(Matte, Black,]</td>\n",
       "      <td>[64, GB)]</td>\n",
       "      <td>[, (4, GB]</td>\n",
       "    </tr>\n",
       "    <tr>\n",
       "      <th>5</th>\n",
       "      <td>Redmi</td>\n",
       "      <td>['Redmi', 'Note', '9']</td>\n",
       "      <td>[pro, max]</td>\n",
       "      <td>[(Aurora, Blue,]</td>\n",
       "      <td>[64, GB), ]</td>\n",
       "    </tr>\n",
       "    <tr>\n",
       "      <th>6</th>\n",
       "      <td>Redmi</td>\n",
       "      <td>['Redmi', '9', 'Prime']</td>\n",
       "      <td>[(Space, Blue,]</td>\n",
       "      <td>[128, GB)]</td>\n",
       "      <td>[, (4, GB]</td>\n",
       "    </tr>\n",
       "    <tr>\n",
       "      <th>7</th>\n",
       "      <td>Samsung</td>\n",
       "      <td>['Samsung', 'Galaxy', 'M21']</td>\n",
       "      <td>[(Midnight, Blue,]</td>\n",
       "      <td>[64, GB)]</td>\n",
       "      <td>[, (4, GB]</td>\n",
       "    </tr>\n",
       "    <tr>\n",
       "      <th>8</th>\n",
       "      <td>Redmi</td>\n",
       "      <td>['Redmi', '9', 'Prime']</td>\n",
       "      <td>[(Mint, Green,]</td>\n",
       "      <td>[128, GB)]</td>\n",
       "      <td>[, (4, GB]</td>\n",
       "    </tr>\n",
       "    <tr>\n",
       "      <th>9</th>\n",
       "      <td>Samsung</td>\n",
       "      <td>['Samsung', 'M01', 'core']</td>\n",
       "      <td>[(Blue,, 32]</td>\n",
       "      <td>[GB), ]</td>\n",
       "      <td>[(2, GB, RAM)]</td>\n",
       "    </tr>\n",
       "    <tr>\n",
       "      <th>10</th>\n",
       "      <td>Redmi</td>\n",
       "      <td>['Redmi', 'Note', '9']</td>\n",
       "      <td>[Pro, (Interstellar]</td>\n",
       "      <td>[Black,, 64]</td>\n",
       "      <td>[GB), , (4]</td>\n",
       "    </tr>\n",
       "    <tr>\n",
       "      <th>11</th>\n",
       "      <td>Redmi</td>\n",
       "      <td>['Redmi', 'Note', '9']</td>\n",
       "      <td>[Pro, (Interstellar]</td>\n",
       "      <td>[Black,, 128]</td>\n",
       "      <td>[GB), , (6]</td>\n",
       "    </tr>\n",
       "    <tr>\n",
       "      <th>12</th>\n",
       "      <td>Redmi</td>\n",
       "      <td>['Redmi', '9', 'Prime']</td>\n",
       "      <td>[(Sunrise, Flare,]</td>\n",
       "      <td>[128, GB)]</td>\n",
       "      <td>[, (4, GB]</td>\n",
       "    </tr>\n",
       "    <tr>\n",
       "      <th>13</th>\n",
       "      <td>Redmi</td>\n",
       "      <td>['Redmi', '9', 'Prime']</td>\n",
       "      <td>[(Matte, Black,]</td>\n",
       "      <td>[128, GB)]</td>\n",
       "      <td>[, (4, GB]</td>\n",
       "    </tr>\n",
       "    <tr>\n",
       "      <th>14</th>\n",
       "      <td>Redmi</td>\n",
       "      <td>['Redmi', 'Note', '9']</td>\n",
       "      <td>[Pro, Max]</td>\n",
       "      <td>[(Champagne, Gold,]</td>\n",
       "      <td>[64, GB), ]</td>\n",
       "    </tr>\n",
       "    <tr>\n",
       "      <th>15</th>\n",
       "      <td>Redmi</td>\n",
       "      <td>['Redmi', '9', '(Carbon']</td>\n",
       "      <td>[Black,, 64]</td>\n",
       "      <td>[GB), ]</td>\n",
       "      <td>[(4, GB, RAM)]</td>\n",
       "    </tr>\n",
       "    <tr>\n",
       "      <th>16</th>\n",
       "      <td>LG</td>\n",
       "      <td>['LG', 'G8X', '(Black,']</td>\n",
       "      <td>[128, GB)]</td>\n",
       "      <td>[, (6]</td>\n",
       "      <td>[GB, RAM)]</td>\n",
       "    </tr>\n",
       "    <tr>\n",
       "      <th>17</th>\n",
       "      <td>Redmi</td>\n",
       "      <td>['Redmi', 'Note', '9']</td>\n",
       "      <td>[Pro, (Champagne]</td>\n",
       "      <td>[Gold,, 128]</td>\n",
       "      <td>[GB), , (4]</td>\n",
       "    </tr>\n",
       "    <tr>\n",
       "      <th>18</th>\n",
       "      <td>Redmi</td>\n",
       "      <td>['Redmi', '9', '(Sky']</td>\n",
       "      <td>[Blue,, 64]</td>\n",
       "      <td>[GB), ]</td>\n",
       "      <td>[(4, GB, RAM)]</td>\n",
       "    </tr>\n",
       "    <tr>\n",
       "      <th>19</th>\n",
       "      <td>Redmi</td>\n",
       "      <td>['Redmi', '9A', '(Nature']</td>\n",
       "      <td>[Green,, 32]</td>\n",
       "      <td>[GB), ]</td>\n",
       "      <td>[(2, GB, RAM)]</td>\n",
       "    </tr>\n",
       "    <tr>\n",
       "      <th>20</th>\n",
       "      <td>Redmi</td>\n",
       "      <td>['Redmi', '9A', '(SeaBlue,']</td>\n",
       "      <td>[32, GB)]</td>\n",
       "      <td>[, (2]</td>\n",
       "      <td>[GB, RAM)]</td>\n",
       "    </tr>\n",
       "    <tr>\n",
       "      <th>21</th>\n",
       "      <td>Redmi</td>\n",
       "      <td>['Redmi', 'Note', '9']</td>\n",
       "      <td>[(Aqua, Green,]</td>\n",
       "      <td>[64, GB)]</td>\n",
       "      <td>[, (4, GB]</td>\n",
       "    </tr>\n",
       "    <tr>\n",
       "      <th>22</th>\n",
       "      <td>Redmi</td>\n",
       "      <td>['Redmi', 'Note', '9']</td>\n",
       "      <td>[(Scarlet, Red,]</td>\n",
       "      <td>[128, GB)]</td>\n",
       "      <td>[, (4, GB]</td>\n",
       "    </tr>\n",
       "    <tr>\n",
       "      <th>23</th>\n",
       "      <td>Samsung</td>\n",
       "      <td>['Samsung', 'M01', 'core']</td>\n",
       "      <td>[(Black,, 32]</td>\n",
       "      <td>[GB), ]</td>\n",
       "      <td>[(2, GB, RAM)]</td>\n",
       "    </tr>\n",
       "  </tbody>\n",
       "</table>\n",
       "</div>"
      ],
      "text/plain": [
       "      Brand                          Name                 Color  \\\n",
       "0    Google     ['Google', 'Pixel', '4a']       [(Just, Black,]   \n",
       "1     Redmi       ['Redmi', '9', 'Prime']       [(Mint, Green,]   \n",
       "2     Redmi       ['Redmi', '9', 'Prime']    [(Sunrise, Flare,]   \n",
       "3     Redmi       ['Redmi', '9', 'Prime']       [(Space, Blue,]   \n",
       "4     Redmi       ['Redmi', '9', 'Prime']      [(Matte, Black,]   \n",
       "5     Redmi        ['Redmi', 'Note', '9']            [pro, max]   \n",
       "6     Redmi       ['Redmi', '9', 'Prime']       [(Space, Blue,]   \n",
       "7   Samsung  ['Samsung', 'Galaxy', 'M21']    [(Midnight, Blue,]   \n",
       "8     Redmi       ['Redmi', '9', 'Prime']       [(Mint, Green,]   \n",
       "9   Samsung    ['Samsung', 'M01', 'core']          [(Blue,, 32]   \n",
       "10    Redmi        ['Redmi', 'Note', '9']  [Pro, (Interstellar]   \n",
       "11    Redmi        ['Redmi', 'Note', '9']  [Pro, (Interstellar]   \n",
       "12    Redmi       ['Redmi', '9', 'Prime']    [(Sunrise, Flare,]   \n",
       "13    Redmi       ['Redmi', '9', 'Prime']      [(Matte, Black,]   \n",
       "14    Redmi        ['Redmi', 'Note', '9']            [Pro, Max]   \n",
       "15    Redmi     ['Redmi', '9', '(Carbon']          [Black,, 64]   \n",
       "16       LG      ['LG', 'G8X', '(Black,']            [128, GB)]   \n",
       "17    Redmi        ['Redmi', 'Note', '9']     [Pro, (Champagne]   \n",
       "18    Redmi        ['Redmi', '9', '(Sky']           [Blue,, 64]   \n",
       "19    Redmi    ['Redmi', '9A', '(Nature']          [Green,, 32]   \n",
       "20    Redmi  ['Redmi', '9A', '(SeaBlue,']             [32, GB)]   \n",
       "21    Redmi        ['Redmi', 'Note', '9']       [(Aqua, Green,]   \n",
       "22    Redmi        ['Redmi', 'Note', '9']      [(Scarlet, Red,]   \n",
       "23  Samsung    ['Samsung', 'M01', 'core']         [(Black,, 32]   \n",
       "\n",
       "                    ROM             RAM  \n",
       "0            [128, GB)]      [, (6, GB]  \n",
       "1             [64, GB)]      [, (4, GB]  \n",
       "2             [64, GB)]      [, (4, GB]  \n",
       "3             [64, GB)]      [, (4, GB]  \n",
       "4             [64, GB)]      [, (4, GB]  \n",
       "5      [(Aurora, Blue,]     [64, GB), ]  \n",
       "6            [128, GB)]      [, (4, GB]  \n",
       "7             [64, GB)]      [, (4, GB]  \n",
       "8            [128, GB)]      [, (4, GB]  \n",
       "9               [GB), ]  [(2, GB, RAM)]  \n",
       "10         [Black,, 64]     [GB), , (4]  \n",
       "11        [Black,, 128]     [GB), , (6]  \n",
       "12           [128, GB)]      [, (4, GB]  \n",
       "13           [128, GB)]      [, (4, GB]  \n",
       "14  [(Champagne, Gold,]     [64, GB), ]  \n",
       "15              [GB), ]  [(4, GB, RAM)]  \n",
       "16               [, (6]      [GB, RAM)]  \n",
       "17         [Gold,, 128]     [GB), , (4]  \n",
       "18              [GB), ]  [(4, GB, RAM)]  \n",
       "19              [GB), ]  [(2, GB, RAM)]  \n",
       "20               [, (2]      [GB, RAM)]  \n",
       "21            [64, GB)]      [, (4, GB]  \n",
       "22           [128, GB)]      [, (4, GB]  \n",
       "23              [GB), ]  [(2, GB, RAM)]  "
      ]
     },
     "execution_count": 72,
     "metadata": {},
     "output_type": "execute_result"
    }
   ],
   "source": [
    "mobiles=pd.DataFrame({})\n",
    "mobiles['Brand']=brand\n",
    "mobiles['Name']=phone_name\n",
    "mobiles['Color']=color\n",
    "mobiles['ROM']=ROM\n",
    "mobiles['RAM']=RAM\n",
    "mobiles"
   ]
  },
  {
   "cell_type": "code",
   "execution_count": 71,
   "metadata": {},
   "outputs": [
    {
     "data": {
      "text/plain": [
       "'Sunrise'"
      ]
     },
     "execution_count": 71,
     "metadata": {},
     "output_type": "execute_result"
    }
   ],
   "source": [
    "str(color[2][0])[1:]"
   ]
  },
  {
   "cell_type": "code",
   "execution_count": null,
   "metadata": {},
   "outputs": [],
   "source": []
  },
  {
   "cell_type": "code",
   "execution_count": null,
   "metadata": {},
   "outputs": [],
   "source": []
  },
  {
   "cell_type": "code",
   "execution_count": null,
   "metadata": {},
   "outputs": [],
   "source": []
  },
  {
   "cell_type": "code",
   "execution_count": null,
   "metadata": {},
   "outputs": [],
   "source": []
  },
  {
   "cell_type": "code",
   "execution_count": null,
   "metadata": {},
   "outputs": [],
   "source": []
  },
  {
   "cell_type": "code",
   "execution_count": null,
   "metadata": {},
   "outputs": [],
   "source": []
  },
  {
   "cell_type": "code",
   "execution_count": null,
   "metadata": {},
   "outputs": [],
   "source": []
  },
  {
   "cell_type": "code",
   "execution_count": null,
   "metadata": {},
   "outputs": [],
   "source": []
  }
 ],
 "metadata": {
  "kernelspec": {
   "display_name": "Python 3",
   "language": "python",
   "name": "python3"
  },
  "language_info": {
   "codemirror_mode": {
    "name": "ipython",
    "version": 3
   },
   "file_extension": ".py",
   "mimetype": "text/x-python",
   "name": "python",
   "nbconvert_exporter": "python",
   "pygments_lexer": "ipython3",
   "version": "3.8.3"
  }
 },
 "nbformat": 4,
 "nbformat_minor": 4
}
